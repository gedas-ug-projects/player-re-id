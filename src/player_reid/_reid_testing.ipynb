{
 "cells": [
  {
   "cell_type": "code",
   "execution_count": null,
   "metadata": {},
   "outputs": [],
   "source": [
    "from glob import glob\n",
    "\n",
    "tracklet_dirs = '/mnt/sun/levlevi/nba-plus-statvu-dataset/player-tracklets/'\n",
    "tracklet_file_paths = glob(tracklet_dirs + '*.txt')"
   ]
  },
  {
   "cell_type": "code",
   "execution_count": 23,
   "metadata": {},
   "outputs": [],
   "source": [
    "import pandas as pd\n",
    "\n",
    "MIN_ARR_SIZE = 30\n",
    "NAMES = ['frame', 'entity_id', 'x1', 'y1', 'width', 'height', 'conf']\n",
    "example_fp = tracklet_file_paths[0]\n",
    "\n",
    "def format_tracklets_for_reid(fp: str):\n",
    "    # Read the CSV file with only the necessary columns\n",
    "    df = pd.read_csv(fp, sep=',', names=NAMES, usecols=NAMES)\n",
    "\n",
    "    # Initialize list to store rows for filtered dataframe\n",
    "    rows = []\n",
    "\n",
    "    # Iterate through each unique entity_id\n",
    "    for entity_id, df_entity in df.groupby('entity_id'):\n",
    "        # Initialize variables for tracking consecutive frames\n",
    "        last_frame_idx = -1\n",
    "        temp_entity_rows = []\n",
    "        \n",
    "        # Iterate through rows of the filtered dataframe\n",
    "        for row in df_entity.itertuples(index=False):\n",
    "            temp_frame_idx = row.frame\n",
    "            \n",
    "            # Check if current frame is consecutive to the last frame\n",
    "            if last_frame_idx != -1 and temp_frame_idx != last_frame_idx + 1:\n",
    "                # If not consecutive and length of collected rows is sufficient, store the rows\n",
    "                if len(temp_entity_rows) >= MIN_ARR_SIZE:\n",
    "                    temp_df = pd.DataFrame(temp_entity_rows, columns=['frame', 'x1', 'y1', 'width', 'height', 'conf'])\n",
    "                    rows.append([entity_id, temp_df])\n",
    "                # Reset the temporary list for a new tracklet\n",
    "                temp_entity_rows = []\n",
    "            \n",
    "            # Add the current row to the temporary list\n",
    "            temp_entity_rows.append([row.frame, row.x1, row.y1, row.width, row.height, row.conf])\n",
    "            # Update last frame index\n",
    "            last_frame_idx = temp_frame_idx\n",
    "        \n",
    "        # Check the last collected rows for the entity\n",
    "        if len(temp_entity_rows) >= MIN_ARR_SIZE:\n",
    "            temp_df = pd.DataFrame(temp_entity_rows, columns=['frame', 'x1', 'y1', 'width', 'height', 'conf'])\n",
    "            rows.append([entity_id, temp_df])\n",
    "            \n",
    "    tracklets_df = pd.DataFrame(rows, columns=['entity_id', 'tracklet_dataframe'])\n",
    "    return tracklets_df"
   ]
  },
  {
   "cell_type": "code",
   "execution_count": 25,
   "metadata": {},
   "outputs": [
    {
     "data": {
      "text/html": [
       "<div>\n",
       "<style scoped>\n",
       "    .dataframe tbody tr th:only-of-type {\n",
       "        vertical-align: middle;\n",
       "    }\n",
       "\n",
       "    .dataframe tbody tr th {\n",
       "        vertical-align: top;\n",
       "    }\n",
       "\n",
       "    .dataframe thead th {\n",
       "        text-align: right;\n",
       "    }\n",
       "</style>\n",
       "<table border=\"1\" class=\"dataframe\">\n",
       "  <thead>\n",
       "    <tr style=\"text-align: right;\">\n",
       "      <th></th>\n",
       "      <th>entity_id</th>\n",
       "      <th>tracklet_dataframe</th>\n",
       "    </tr>\n",
       "  </thead>\n",
       "  <tbody>\n",
       "    <tr>\n",
       "      <th>0</th>\n",
       "      <td>0</td>\n",
       "      <td>frame     x1     y1  width  height  conf\n",
       "0...</td>\n",
       "    </tr>\n",
       "    <tr>\n",
       "      <th>1</th>\n",
       "      <td>1</td>\n",
       "      <td>frame     x1     y1  width  height  conf\n",
       "...</td>\n",
       "    </tr>\n",
       "    <tr>\n",
       "      <th>2</th>\n",
       "      <td>2</td>\n",
       "      <td>frame     x1     y1  width  height  conf\n",
       "...</td>\n",
       "    </tr>\n",
       "    <tr>\n",
       "      <th>3</th>\n",
       "      <td>3</td>\n",
       "      <td>frame     x1     y1  width  height  conf\n",
       "...</td>\n",
       "    </tr>\n",
       "    <tr>\n",
       "      <th>4</th>\n",
       "      <td>4</td>\n",
       "      <td>frame     x1     y1  width  height  conf\n",
       "0...</td>\n",
       "    </tr>\n",
       "  </tbody>\n",
       "</table>\n",
       "</div>"
      ],
      "text/plain": [
       "   entity_id                                 tracklet_dataframe\n",
       "0          0      frame     x1     y1  width  height  conf\n",
       "0...\n",
       "1          1       frame     x1     y1  width  height  conf\n",
       "...\n",
       "2          2       frame     x1     y1  width  height  conf\n",
       "...\n",
       "3          3       frame     x1     y1  width  height  conf\n",
       "...\n",
       "4          4      frame     x1     y1  width  height  conf\n",
       "0..."
      ]
     },
     "execution_count": 25,
     "metadata": {},
     "output_type": "execute_result"
    }
   ],
   "source": [
    "# dataframe containing all tracklets\n",
    "example_tracklets_df = format_tracklets_for_reid(example_fp)\n",
    "example_tracklets_df.head()"
   ]
  },
  {
   "cell_type": "code",
   "execution_count": null,
   "metadata": {},
   "outputs": [],
   "source": []
  }
 ],
 "metadata": {
  "kernelspec": {
   "display_name": "vish",
   "language": "python",
   "name": "python3"
  },
  "language_info": {
   "codemirror_mode": {
    "name": "ipython",
    "version": 3
   },
   "file_extension": ".py",
   "mimetype": "text/x-python",
   "name": "python",
   "nbconvert_exporter": "python",
   "pygments_lexer": "ipython3",
   "version": "3.8.19"
  }
 },
 "nbformat": 4,
 "nbformat_minor": 2
}
