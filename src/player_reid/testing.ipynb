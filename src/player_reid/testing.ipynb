{
 "cells": [
  {
   "cell_type": "code",
   "execution_count": null,
   "metadata": {},
   "outputs": [],
   "source": [
    "import os\n",
    "import glob\n",
    "\n",
    "nba_statvu_ds_dir = \"/mnt/sun/levlevi/nba-plus-statvu-dataset\"\n",
    "statvu_data_dir = os.path.join(nba_statvu_ds_dir, \"statvu-game-logs\")\n",
    "players_data_fp = os.path.join(nba_statvu_ds_dir, \"statvu-metadata\", \"players.json\")\n",
    "team_data_fp = os.path.join(nba_statvu_ds_dir, \"statvu-metadata\", \"team.json\")\n",
    "\n",
    "player_pos_file_paths = glob.glob(os.path.join(statvu_data_dir, \"*\", \"*.json\"))\n",
    "\n",
    "def reidentify_player(image, statvu_data):\n",
    "    pass"
   ]
  },
  {
   "cell_type": "code",
   "execution_count": null,
   "metadata": {},
   "outputs": [],
   "source": [
    "import json\n",
    "\n",
    "ex_fp = player_pos_file_paths[0]\n",
    "with open(ex_fp, \"r\") as f:\n",
    "    ex_data = json.load(f)"
   ]
  },
  {
   "cell_type": "code",
   "execution_count": null,
   "metadata": {},
   "outputs": [],
   "source": [
    "with open(players_data_fp, \"r\") as f:\n",
    "    players_data = json.load(f)\n",
    "\n",
    "with open(team_data_fp, \"r\") as f:\n",
    "    teams_data = json.load(f)"
   ]
  },
  {
   "cell_type": "code",
   "execution_count": null,
   "metadata": {},
   "outputs": [],
   "source": [
    "teams_data_reformatted = {entry['teamId']: entry for entry in teams_data}\n",
    "players_data_reformatted = {entry['playerId']: entry for entry in players_data}"
   ]
  },
  {
   "cell_type": "code",
   "execution_count": null,
   "metadata": {},
   "outputs": [],
   "source": [
    "teams_players_data = {}\n",
    "\n",
    "home_team_players = ex_data['events'][0]['home']['players']\n",
    "visitor_team_players = ex_data['events'][0]['visitor']['players']\n",
    "\n",
    "# player_locations = ex_data['events'][0]['moments'][0][5]\n",
    "# for player in player_locations:\n",
    "#     team_id = player[0]\n",
    "#     player_id = player[1]\n",
    "#     if not player_id in players_data_reformatted:\n",
    "#         continue\n",
    "#     if not team_id in teams_players_data:\n",
    "#         teams_players_data[team_id] = {\n",
    "#             'team_info': teams_data_reformatted[team_id],\n",
    "#             'players': {}\n",
    "#         }\n",
    "#     if not player_id in teams_players_data[team_id]:\n",
    "#         teams_players_data[team_id]['players'][player_id] = {\n",
    "#             'player_id': player_id,\n",
    "#             'player_name': players_data_reformatted[player_id],\n",
    "#         }\n",
    "\n",
    "# teams_players_data"
   ]
  },
  {
   "cell_type": "code",
   "execution_count": null,
   "metadata": {},
   "outputs": [],
   "source": [
    "ex_data['events'][0]['visitor']['players'].__len__()"
   ]
  },
  {
   "cell_type": "code",
   "execution_count": null,
   "metadata": {},
   "outputs": [],
   "source": [
    "fp = \"/playpen-storage/levlevi/player-re-id/src/player_reid/NBA_2015-16_seasons.txt\"\n",
    "with open(fp, \"r\") as f:\n",
    "    data = f.read()"
   ]
  },
  {
   "cell_type": "code",
   "execution_count": null,
   "metadata": {},
   "outputs": [],
   "source": [
    "roster_str = '<h2><span class=\"mw-headline\" id=\"Roster\">Roster</span><'\n",
    "rosters = data.split(roster_str)[1: ]"
   ]
  },
  {
   "cell_type": "code",
   "execution_count": null,
   "metadata": {},
   "outputs": [],
   "source": [
    "TEAM_IDX = 0\n",
    "PLAYER_IDX = 0\n",
    "\n",
    "rosters_dict = {}\n",
    "\n",
    "team_end_str = '_season&amp;action=edit&amp;section=3'\n",
    "team_end_str_cont = ' season&amp'\n",
    "team_start_str = 'title=2015%E2%80%9316_'\n",
    "\n",
    "player_str = '<tr>\\n<td style=\"text-align:center;'\n",
    "player_title_start_str = ' title=\"'\n",
    "player_title_end_str = '\"'\n",
    "player_title_end_str_cont = ' (basketball'\n",
    "player_title_str_idx = 2\n",
    "\n",
    "player_jersey_end_str = '</span>\\n</td>\\n<td style=\"text-align:left;\"'\n",
    "player_jersey_start_str = '\">'\n",
    "\n",
    "def get_team_name(team_idx):\n",
    "    return rosters[team_idx].split(team_end_str)[0].split(team_start_str)[-1].replace(\"_\", \" \").split(team_end_str_cont)[0]\n",
    "\n",
    "# player_title\n",
    "def get_player_name(team_idx, player_idx):\n",
    "    # print(player_idx)\n",
    "    return rosters[team_idx].split(player_str)[1: ][player_idx].split(player_title_start_str)[player_title_str_idx].split(player_title_end_str)[0].split(player_title_end_str_cont)[0]\n",
    "\n",
    "def get_player_jersey_number(team_idx, player_idx):\n",
    "    return rosters[team_idx].split(player_str)[1: ][player_idx].split(player_jersey_end_str)[0].split(player_jersey_start_str)[-1]"
   ]
  },
  {
   "cell_type": "code",
   "execution_count": null,
   "metadata": {},
   "outputs": [],
   "source": [
    "for team_idx in range(len(rosters)):\n",
    "    team_name = get_team_name(team_idx)\n",
    "    rosters_dict[team_name] = {}\n",
    "    for player_idx in range(len(rosters[team_idx].split(player_str)[1: ])):\n",
    "        try:\n",
    "            player_name = get_player_name(team_idx, player_idx)\n",
    "        except:\n",
    "            continue\n",
    "        try:\n",
    "            jersey_number = int(get_player_jersey_number(team_idx, player_idx))\n",
    "        except:\n",
    "            continue\n",
    "        if not player_name in rosters_dict[team_name]:\n",
    "            rosters_dict[team_name][player_name] = {\n",
    "                'jersey_number': jersey_number\n",
    "            }\n",
    "rosters_dict"
   ]
  },
  {
   "cell_type": "code",
   "execution_count": 46,
   "metadata": {},
   "outputs": [],
   "source": [
    "import json\n",
    "\n",
    "with open('team_rosters.json', 'w') as f:\n",
    "    json.dump(rosters_dict, f, indent=4)"
   ]
  },
  {
   "cell_type": "code",
   "execution_count": 2,
   "metadata": {},
   "outputs": [],
   "source": [
    "import json\n",
    "\n",
    "with open(\"/playpen-storage/levlevi/player-re-id/src/player_reid/team_rosters.json\", 'r') as f:\n",
    "    data = json.load(f)"
   ]
  },
  {
   "cell_type": "code",
   "execution_count": 3,
   "metadata": {},
   "outputs": [],
   "source": [
    "teams = list(data.keys())"
   ]
  },
  {
   "cell_type": "code",
   "execution_count": 4,
   "metadata": {},
   "outputs": [],
   "source": [
    "import requests\n",
    "\n",
    "def get_team_wiki(team_name: str):\n",
    "    return str(requests.get(\"https://en.wikipedia.org/wiki/{team_name}\").content)\n",
    "\n",
    "all_data_str = ''\n",
    "for team in teams:\n",
    "    all_data_str += get_team_wiki(team)"
   ]
  },
  {
   "cell_type": "code",
   "execution_count": 7,
   "metadata": {},
   "outputs": [],
   "source": [
    "colors = all_data_str.split('Team colors')"
   ]
  },
  {
   "cell_type": "code",
   "execution_count": 9,
   "metadata": {},
   "outputs": [
    {
     "ename": "IndexError",
     "evalue": "list index out of range",
     "output_type": "error",
     "traceback": [
      "\u001b[0;31m---------------------------------------------------------------------------\u001b[0m",
      "\u001b[0;31mIndexError\u001b[0m                                Traceback (most recent call last)",
      "Cell \u001b[0;32mIn[9], line 1\u001b[0m\n\u001b[0;32m----> 1\u001b[0m \u001b[43mcolors\u001b[49m\u001b[43m[\u001b[49m\u001b[38;5;241;43m1\u001b[39;49m\u001b[43m]\u001b[49m\n",
      "\u001b[0;31mIndexError\u001b[0m: list index out of range"
     ]
    }
   ],
   "source": [
    "colors[1]"
   ]
  },
  {
   "cell_type": "code",
   "execution_count": null,
   "metadata": {},
   "outputs": [],
   "source": []
  }
 ],
 "metadata": {
  "kernelspec": {
   "display_name": "reid",
   "language": "python",
   "name": "python3"
  },
  "language_info": {
   "codemirror_mode": {
    "name": "ipython",
    "version": 3
   },
   "file_extension": ".py",
   "mimetype": "text/x-python",
   "name": "python",
   "nbconvert_exporter": "python",
   "pygments_lexer": "ipython3",
   "version": "3.8.19"
  }
 },
 "nbformat": 4,
 "nbformat_minor": 2
}
