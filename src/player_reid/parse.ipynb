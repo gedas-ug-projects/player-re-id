{
 "cells": [
  {
   "cell_type": "code",
   "execution_count": null,
   "metadata": {},
   "outputs": [],
   "source": [
    "import pandas as pd\n",
    "import requests\n",
    "from bs4 import BeautifulSoup\n",
    "\n",
    "def extract_player_data_team(team_str: str):\n",
    "    url = f\"https://en.wikipedia.org/wiki/2015%E2%80%9316_{team_str}_season\"\n",
    "    response = requests.get(url)\n",
    "    soup = BeautifulSoup(response.content, 'html.parser')\n",
    "\n",
    "    roster_section = soup.find('span', id='Roster').parent\n",
    "    roster_table = roster_section.find_next('table', class_='toccolours')\n",
    "\n",
    "    players = []\n",
    "    rows = roster_table.find_all('tr')\n",
    "\n",
    "    team_dict = {}\n",
    "    for row in rows[2:]:  # Skip the header row\n",
    "        cols = row.find_all('td')\n",
    "        if len(cols) > 0:\n",
    "            position = cols[0].text.strip()\n",
    "            number = cols[1].text.strip()\n",
    "            name = cols[2].text.strip()\n",
    "            team_dict[name] = {'position': position, 'number': number, 'name': name}\n",
    "\n",
    "    return team_dict"
   ]
  },
  {
   "cell_type": "code",
   "execution_count": null,
   "metadata": {},
   "outputs": [],
   "source": [
    "import re\n",
    "\n",
    "def get_team_colors(team_str: str):\n",
    "\n",
    "    url = f\"https://en.wikipedia.org/wiki/{team_str}\"\n",
    "    response = requests.get(url)\n",
    "    soup = BeautifulSoup(response.content, 'html.parser')\n",
    "\n",
    "    # Step 2: Locate the infobox containing the team details\n",
    "    infobox = soup.find('table', class_='infobox vcard')\n",
    "\n",
    "    # Step 3: Identify and extract the team colors\n",
    "    if not team_str == \"Toronto_Raptors\":\n",
    "        colors_section = infobox.find(text=\"Team colors\").find_next('td')\n",
    "        colors = colors_section.text.strip().split(',')\n",
    "    else:\n",
    "        colors_section = infobox.find(text=\"Team colours\").find_next('td')\n",
    "        colors = colors_section.text.strip().split(',')\n",
    "\n",
    "    # Step 4: Clean up the color data\n",
    "    colors = [re.sub(r'[^a-zA-Z]', '', color.strip()).lower() for color in colors]\n",
    "    return colors"
   ]
  },
  {
   "cell_type": "code",
   "execution_count": 33,
   "metadata": {},
   "outputs": [],
   "source": [
    "nba_teams = [\n",
    "    \"Boston_Celtics\",\n",
    "    \"Brooklyn_Nets\",\n",
    "    \"New_York_Knicks\",\n",
    "    \"Philadelphia_76ers\",\n",
    "    \"Toronto_Raptors\",\n",
    "    \"Chicago_Bulls\",\n",
    "    \"Cleveland_Cavaliers\",\n",
    "    \"Detroit_Pistons\",\n",
    "    \"Indiana_Pacers\",\n",
    "    \"Milwaukee_Bucks\",\n",
    "    \"Atlanta_Hawks\",\n",
    "    \"Charlotte_Hornets\",\n",
    "    \"Miami_Heat\",\n",
    "    \"Orlando_Magic\",\n",
    "    \"Washington_Wizards\",\n",
    "    \"Denver_Nuggets\",\n",
    "    \"Minnesota_Timberwolves\",\n",
    "    \"Oklahoma_City_Thunder\",\n",
    "    \"Portland_Trail_Blazers\",\n",
    "    \"Utah_Jazz\",\n",
    "    \"Golden_State_Warriors\",\n",
    "    \"Los_Angeles_Clippers\",\n",
    "    \"Los_Angeles_Lakers\",\n",
    "    \"Phoenix_Suns\",\n",
    "    \"Sacramento_Kings\",\n",
    "    \"Dallas_Mavericks\",\n",
    "    \"Houston_Rockets\",\n",
    "    \"Memphis_Grizzlies\",\n",
    "    \"New_Orleans_Pelicans\",\n",
    "    \"San_Antonio_Spurs\"\n",
    "]\n",
    "\n",
    "all_team_rosters = {}\n",
    "for team in nba_teams:\n",
    "    all_team_rosters[str.lower(team)] = {}\n",
    "    all_team_rosters[str.lower(team)]['players'] = extract_player_data_team(team)"
   ]
  },
  {
   "cell_type": "code",
   "execution_count": null,
   "metadata": {},
   "outputs": [],
   "source": [
    "for team in nba_teams:\n",
    "    print(team)\n",
    "    all_team_rosters[str.lower(team)]['team_colors'] = get_team_colors(team)"
   ]
  },
  {
   "cell_type": "code",
   "execution_count": 34,
   "metadata": {},
   "outputs": [],
   "source": [
    "import json\n",
    "\n",
    "with open('team_rosters.json', 'w') as f:\n",
    "    json.dump(all_team_rosters, f, indent=4)"
   ]
  },
  {
   "cell_type": "code",
   "execution_count": null,
   "metadata": {},
   "outputs": [],
   "source": []
  }
 ],
 "metadata": {
  "kernelspec": {
   "display_name": "Python 3",
   "language": "python",
   "name": "python3"
  },
  "language_info": {
   "codemirror_mode": {
    "name": "ipython",
    "version": 3
   },
   "file_extension": ".py",
   "mimetype": "text/x-python",
   "name": "python",
   "nbconvert_exporter": "python",
   "pygments_lexer": "ipython3",
   "version": "3.12.3"
  }
 },
 "nbformat": 4,
 "nbformat_minor": 2
}
