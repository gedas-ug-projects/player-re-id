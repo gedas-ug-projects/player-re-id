{
 "cells": [
  {
   "cell_type": "code",
   "execution_count": 25,
   "metadata": {},
   "outputs": [],
   "source": [
    "import os\n",
    "from glob import glob\n",
    "from typing import List, Set\n",
    "\n",
    "tracklets_out_dir=\"/mnt/sun/levlevi/player-tracklets-backup/player-tracklets\"\n",
    "videos_src_dir=\"/mnt/sun/levlevi/nba-plus-statvu-dataset/game-replays\"\n",
    "tmp_dir = \"/mnt/meg/levlevi/tmp\""
   ]
  },
  {
   "cell_type": "code",
   "execution_count": 27,
   "metadata": {},
   "outputs": [],
   "source": [
    "def get_all_processed_vids(tracklets_out_dir: str, tmp_dir: str) -> Set[str]:\n",
    "    processed_videos = set([x.split('/')[-1].replace(\".txt\", \"\") for x in glob(tracklets_out_dir + '/*.txt')])\n",
    "    tmp_dir_videos = set([x.split('/')[-1] for x in glob(tmp_dir + \"/*\")])\n",
    "    all_processed_videos = processed_videos | tmp_dir_videos\n",
    "    return all_processed_videos\n",
    "\n",
    "def get_all_remaining_vids(videos_src_dir: str, tracklets_out_dir: str, tmp_dir: str) -> List[str]:\n",
    "    \"\"\"\n",
    "    Return a list of all video file paths that do not have a tracklet output\n",
    "    or that do not have a subdir in the `tmp_dir` folder.\n",
    "    \"\"\"\n",
    "    \n",
    "    all_processed_videos = get_all_processed_vids(tracklets_out_dir, tmp_dir)\n",
    "    return [x for x in glob( videos_src_dir + \"/*.mp4\") if (x.split('/')[-1].replace('.mp4', '').lower() not in all_processed_videos)]"
   ]
  }
 ],
 "metadata": {
  "kernelspec": {
   "display_name": "Python 3",
   "language": "python",
   "name": "python3"
  },
  "language_info": {
   "codemirror_mode": {
    "name": "ipython",
    "version": 3
   },
   "file_extension": ".py",
   "mimetype": "text/x-python",
   "name": "python",
   "nbconvert_exporter": "python",
   "pygments_lexer": "ipython3",
   "version": "3.10.12"
  }
 },
 "nbformat": 4,
 "nbformat_minor": 2
}
