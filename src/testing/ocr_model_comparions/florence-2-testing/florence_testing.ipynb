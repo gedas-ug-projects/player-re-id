{
 "cells": [
  {
   "cell_type": "code",
   "execution_count": null,
   "metadata": {},
   "outputs": [],
   "source": [
    "import requests\n",
    "\n",
    "from PIL import Image\n",
    "from transformers import AutoProcessor, AutoModelForCausalLM \n",
    "\n",
    "\n",
    "model = AutoModelForCausalLM.from_pretrained(\"microsoft/Florence-2-large-ft\", trust_remote_code=True, device_map=\"cuda\").eval()\n",
    "processor = AutoProcessor.from_pretrained(\"microsoft/Florence-2-large-ft\", trust_remote_code=True)"
   ]
  },
  {
   "cell_type": "markdown",
   "metadata": {},
   "source": [
    "# **OCR Benchmark**\n",
    "***"
   ]
  },
  {
   "cell_type": "code",
   "execution_count": null,
   "metadata": {},
   "outputs": [],
   "source": [
    "import os\n",
    "from tqdm import tqdm\n",
    "from glob import glob\n",
    "\n",
    "test_set_dir = '/mnt/opr/levlevi/player-re-id/src/testing/ocr_model_comparions/nba_100_test_set'\n",
    "image_file_paths = glob(os.path.join(test_set_dir, '*.jpg'))\n",
    "PROMPT = \"\"\"Analyze the basketball player shown in the provided still tracklet frame and describe the following details:\n",
    "1. Jersey Number: Identify the number on the player's jersey. If the player has no jersey, provide None.\n",
    "Based on the frame description, produce an output prediction in the following JSON format:\n",
    "{\n",
    "  \"jersey_number\": \"<predicted_jersey_number>\",\n",
    "}\n",
    "[EOS]\"\"\"\n",
    "\n",
    "def perform_ocr(image_file_path: str) -> str:\n",
    "    image = Image.open(image_file_path)\n",
    "    inputs = processor(text=PROMPT, images=image, return_tensors=\"pt\").to('cuda')\n",
    "    generated_ids = model.generate(\n",
    "        input_ids=inputs[\"input_ids\"],\n",
    "        pixel_values=inputs[\"pixel_values\"],\n",
    "        max_new_tokens=1024,\n",
    "        do_sample=True,\n",
    "        num_beams=10\n",
    "    )\n",
    "    generated_text = processor.batch_decode(generated_ids, skip_special_tokens=False)[0]\n",
    "    parsed_answer = processor.post_process_generation(generated_text, task=\"<OCR>\", image_size=(image.width, image.height))\n",
    "    return parsed_answer\n",
    "\n",
    "ground_truth_labels = []\n",
    "results = []\n",
    "for image_file_path in tqdm(image_file_paths):\n",
    "    # get human annotation\n",
    "    ground_truth_label = image_file_path.split('/')[-1].split('_')[1].split('.')[0]\n",
    "    ground_truth_labels.append(ground_truth_label)\n",
    "    # perform ocr\n",
    "    result = perform_ocr(image_file_path)\n",
    "    results.append(result)"
   ]
  },
  {
   "cell_type": "code",
   "execution_count": null,
   "metadata": {},
   "outputs": [],
   "source": [
    "import pandas as pd\n",
    "\n",
    "ground_truth_labels = [f.split('/')[-1].split('_')[1].split('.')[0] for f in image_file_paths]\n",
    "predictions = []\n",
    "for r in results:\n",
    "    pred = r['<OCR>']\n",
    "    if pred == 'unanswerable':\n",
    "        pred = 'nan'\n",
    "    predictions.append(pred)\n",
    "    \n",
    "df = pd.DataFrame({'ground_truth_label': ground_truth_labels, 'prediction': predictions})\n",
    "correct = df['ground_truth_label'] == df['prediction']\n",
    "df['correct'] = correct\n",
    "sum(df['correct'])"
   ]
  },
  {
   "cell_type": "markdown",
   "metadata": {},
   "source": [
    "# **Race Identification Benchmark**\n",
    "***"
   ]
  },
  {
   "cell_type": "code",
   "execution_count": null,
   "metadata": {},
   "outputs": [],
   "source": [
    "import os\n",
    "from tqdm import tqdm\n",
    "from glob import glob\n",
    "\n",
    "test_set_dir = '/mnt/opr/levlevi/player-re-id/src/testing/ocr_model_comparions/nba_100_test_set'\n",
    "image_file_paths = glob(os.path.join(test_set_dir, '*.jpg'))\n",
    "PROMPT = \"\"\"Analyze the basketball player shown in the provided still tracklet frame and describe the following details:\n",
    "1. Player Race: Identify the players skin color as either 'black', 'white', 'mixed', or 'asian'.\n",
    "Based on the frame description, produce an output prediction in the following JSON format:\n",
    "{\n",
    "  \"race\": \"<predicted_race>\",\n",
    "}\n",
    "[EOS]\"\"\"\n",
    "\n",
    "def perform_ocr(image_file_path: str) -> str:\n",
    "    image = Image.open(image_file_path)\n",
    "    inputs = processor(text=PROMPT, images=image, return_tensors=\"pt\").to('cuda')\n",
    "    generated_ids = model.generate(\n",
    "        input_ids=inputs[\"input_ids\"],\n",
    "        pixel_values=inputs[\"pixel_values\"],\n",
    "        max_new_tokens=1024,\n",
    "        do_sample=False,\n",
    "        num_beams=3\n",
    "    )\n",
    "    generated_text = processor.batch_decode(generated_ids, skip_special_tokens=False)[0]\n",
    "    parsed_answer = processor.post_process_generation(generated_text, task=\"<CAPTION_TO_PHRASE_GROUNDING>\", image_size=(image.width, image.height))\n",
    "    return parsed_answer\n",
    "\n",
    "ground_truth_labels = []\n",
    "results = []\n",
    "for image_file_path in tqdm(image_file_paths):\n",
    "    # get human annotation\n",
    "    ground_truth_label = image_file_path.split('/')[-1].split('_')[1].split('.')[0]\n",
    "    ground_truth_labels.append(ground_truth_label)\n",
    "    # perform ocr\n",
    "    result = perform_ocr(image_file_path)\n",
    "    results.append(result)"
   ]
  },
  {
   "cell_type": "code",
   "execution_count": null,
   "metadata": {},
   "outputs": [],
   "source": []
  }
 ],
 "metadata": {
  "kernelspec": {
   "display_name": "cog",
   "language": "python",
   "name": "python3"
  },
  "language_info": {
   "codemirror_mode": {
    "name": "ipython",
    "version": 3
   },
   "file_extension": ".py",
   "mimetype": "text/x-python",
   "name": "python",
   "nbconvert_exporter": "python",
   "pygments_lexer": "ipython3",
   "version": "3.8.19"
  }
 },
 "nbformat": 4,
 "nbformat_minor": 2
}
