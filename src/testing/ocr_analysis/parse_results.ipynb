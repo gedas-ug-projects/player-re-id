{
 "cells": [
  {
   "cell_type": "code",
   "execution_count": null,
   "metadata": {},
   "outputs": [],
   "source": [
    "fp = '/mnt/opr/levlevi/player-re-id/src/testing/ocr_analysis/results.json'\n",
    "with open(fp, 'r') as f:\n",
    "    results = f.read()\n",
    "results = results.replace('\\\\n', '').replace('\\\\', '')"
   ]
  },
  {
   "cell_type": "code",
   "execution_count": null,
   "metadata": {},
   "outputs": [],
   "source": [
    "import ast\n",
    "\n",
    "results_copy = results.replace(\" \", \"\").split('[EOS]')\n",
    "preds = []\n",
    "for res in results_copy:\n",
    "    if '{' in res and '}' in res:\n",
    "        pred = '{\"' + res.split('{\"')[-1].split(\"}\")[0] + '}'\n",
    "        try:\n",
    "            preds.append(ast.literal_eval(pred))\n",
    "        except:\n",
    "            print(pred)"
   ]
  },
  {
   "cell_type": "code",
   "execution_count": 23,
   "metadata": {},
   "outputs": [],
   "source": [
    "root_str = '/mnt/opr/levlevi/player-re-id/src/testing/ocr_analysis/_50_game_reid_benchmark_/labeled-tracks/'\n",
    "\n",
    "preds_dict = {}\n",
    "for index in range(1, 50):\n",
    "    sub_dir = root_str + results.split(root_str)[index].split(': {')[0]\n",
    "    ss = results.split(root_str)[index]\n",
    "    preds = []\n",
    "    for res in ss.replace(\" \", \"\").split('[EOS]'):\n",
    "        if '{' in res and '}' in res:\n",
    "            pred = '{\"' + res.split('{\"')[-1].split(\"}\")[0] + '}'\n",
    "        try:\n",
    "            preds.append(ast.literal_eval(pred))\n",
    "        except:\n",
    "            pass\n",
    "    preds_dict[sub_dir] = preds"
   ]
  },
  {
   "cell_type": "code",
   "execution_count": 27,
   "metadata": {},
   "outputs": [],
   "source": [
    "import json\n",
    "predictions_fp = '/mnt/opr/levlevi/player-re-id/src/testing/ocr_analysis/predictions.json'\n",
    "with open(predictions_fp, 'w') as f:\n",
    "    json.dump(preds_dict, f, indent=4)"
   ]
  },
  {
   "cell_type": "code",
   "execution_count": null,
   "metadata": {},
   "outputs": [],
   "source": []
  }
 ],
 "metadata": {
  "kernelspec": {
   "display_name": "tg-cpu",
   "language": "python",
   "name": "python3"
  },
  "language_info": {
   "codemirror_mode": {
    "name": "ipython",
    "version": 3
   },
   "file_extension": ".py",
   "mimetype": "text/x-python",
   "name": "python",
   "nbconvert_exporter": "python",
   "pygments_lexer": "ipython3",
   "version": "3.12.3"
  }
 },
 "nbformat": 4,
 "nbformat_minor": 2
}
