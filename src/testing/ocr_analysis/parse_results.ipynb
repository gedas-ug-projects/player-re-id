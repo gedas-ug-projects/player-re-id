{
 "cells": [
  {
   "cell_type": "code",
   "execution_count": null,
   "metadata": {},
   "outputs": [],
   "source": [
    "fp = '/playpen-storage/levlevi/player-re-id/src/testing/ocr_analysis/results.json'\n",
    "with open(fp, 'r') as f:\n",
    "    results = f.read()\n",
    "results = results.replace('\\\\n', '').replace('\\\\', '').replace(' ', '')"
   ]
  },
  {
   "cell_type": "code",
   "execution_count": null,
   "metadata": {},
   "outputs": [],
   "source": [
    "import ast\n",
    "\n",
    "results_copy = results.split('[EOS]')\n",
    "preds = []\n",
    "for res in results_copy:\n",
    "    if '{' in res and '}' in res:\n",
    "        pred = '{\"' + res.split('{\"')[-1].split(\"}\")[0] + '}'\n",
    "        preds.append(ast.literal_eval(pred))\n",
    "preds"
   ]
  },
  {
   "cell_type": "code",
   "execution_count": null,
   "metadata": {},
   "outputs": [],
   "source": []
  },
  {
   "cell_type": "code",
   "execution_count": null,
   "metadata": {},
   "outputs": [],
   "source": []
  }
 ],
 "metadata": {
  "kernelspec": {
   "display_name": "tg-cpu",
   "language": "python",
   "name": "python3"
  },
  "language_info": {
   "codemirror_mode": {
    "name": "ipython",
    "version": 3
   },
   "file_extension": ".py",
   "mimetype": "text/x-python",
   "name": "python",
   "nbconvert_exporter": "python",
   "pygments_lexer": "ipython3",
   "version": "3.12.3"
  }
 },
 "nbformat": 4,
 "nbformat_minor": 2
}
