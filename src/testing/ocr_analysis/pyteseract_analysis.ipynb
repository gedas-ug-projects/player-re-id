{
 "cells": [
  {
   "cell_type": "code",
   "execution_count": 3,
   "metadata": {},
   "outputs": [],
   "source": [
    "import pytesseract\n",
    "import os\n",
    "import cv2\n",
    "from glob import glob\n",
    "from tqdm import tqdm\n",
    "from collections import Counter\n",
    "\n",
    "THRESH = 0.0\n",
    "\n",
    "def ocr(fp: str):\n",
    "    image = cv2.imread(fp)\n",
    "    result = pytesseract.image_to_string(image)\n",
    "    if len(result) == 0:\n",
    "        return None\n",
    "    return result\n",
    "\n",
    "def ocr_dir(dir: str):\n",
    "    image_file_paths = glob(os.path.join(dir, \"*.jpg\"))\n",
    "    results = []\n",
    "    for image_file_path in tqdm(image_file_paths):\n",
    "        result = ocr(image_file_path)\n",
    "        if result is not None:\n",
    "            results.append(result)\n",
    "    return results, dir\n",
    "\n",
    "def find_most_common_element_in_arr(arr):\n",
    "    return Counter(arr).most_common(1)[0][0] if len(arr) > 0 else None"
   ]
  },
  {
   "cell_type": "code",
   "execution_count": 4,
   "metadata": {},
   "outputs": [
    {
     "data": {
      "text/plain": [
       "'\\x0c'"
      ]
     },
     "execution_count": 4,
     "metadata": {},
     "output_type": "execute_result"
    }
   ],
   "source": [
    "ocr('/playpen-storage/levlevi/player-re-id/src/testing/ocr_analysis/sample_tracks_nba_100/__jersey_number_ocr_benchmark_nba_100__/1_16.jpg')"
   ]
  },
  {
   "cell_type": "code",
   "execution_count": null,
   "metadata": {},
   "outputs": [],
   "source": []
  }
 ],
 "metadata": {
  "kernelspec": {
   "display_name": "tg-cpu",
   "language": "python",
   "name": "python3"
  },
  "language_info": {
   "codemirror_mode": {
    "name": "ipython",
    "version": 3
   },
   "file_extension": ".py",
   "mimetype": "text/x-python",
   "name": "python",
   "nbconvert_exporter": "python",
   "pygments_lexer": "ipython3",
   "version": "3.12.3"
  }
 },
 "nbformat": 4,
 "nbformat_minor": 2
}
