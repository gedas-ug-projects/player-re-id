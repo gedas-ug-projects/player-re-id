{
 "cells": [
  {
   "cell_type": "code",
   "execution_count": null,
   "metadata": {},
   "outputs": [],
   "source": [
    "import os\n",
    "import pandas as pd"
   ]
  },
  {
   "cell_type": "code",
   "execution_count": null,
   "metadata": {},
   "outputs": [],
   "source": [
    "from glob import glob\n",
    "\n",
    "tracks_dir = \"/playpen-storage/levlevi/player-re-id/src/testing/ocr_analysis/full_video_tracks\"\n",
    "tracks = glob(tracks_dir + \"/*.txt\")"
   ]
  },
  {
   "cell_type": "code",
   "execution_count": null,
   "metadata": {},
   "outputs": [],
   "source": [
    "lengths = []\n",
    "for fp in tracks[0:10]:\n",
    "    with open(fp, 'r') as f:\n",
    "        lines = f.readlines()\n",
    "    index = ['frame', 'entity_id', 'x1', 'y1', 'width', 'height', 'conf', 'pad2', 'pad3', 'pad4']\n",
    "    df = pd.read_csv(fp, names=index)[['frame', 'entity_id', 'x1', 'y1', 'width', 'height', 'conf']]\n",
    "    entities = df.entity_id.unique()\n",
    "    print(len(entities))\n",
    "    for entity in entities:\n",
    "        entity_df = df[df.entity_id == entity]\n",
    "        lengths.append(len(entity_df))        \n",
    "\n",
    "# print(f\"Mean: {sum(lengths)/len(lengths)}\")"
   ]
  },
  {
   "cell_type": "code",
   "execution_count": null,
   "metadata": {},
   "outputs": [],
   "source": [
    "import matplotlib.pyplot as plt\n",
    "import numpy as np\n",
    "\n",
    "lengths = np.array(lengths)\n",
    "lengths_filtered = lengths[lengths > 25]\n",
    "\n",
    "# Create the histogram\n",
    "plt.hist(lengths_filtered, bins=50, range=(0, 1200))\n",
    "\n",
    "# Calculate the mean\n",
    "mean_length = np.mean(lengths_filtered)\n",
    "\n",
    "# Plot the mean line\n",
    "plt.axvline(mean_length, color='red', linestyle='dashed', linewidth=1)\n",
    "\n",
    "# Add labels and title\n",
    "plt.xlabel(\"Duration (Frames)\", fontsize=14)\n",
    "plt.ylabel(\"Count\", fontsize=14)\n",
    "plt.title(\"Track Lengths\", fontsize=16)\n",
    "\n",
    "# Add text for the mean\n",
    "plt.text(mean_length + 20, max(np.histogram(lengths_filtered, bins=30, range=(0, 1200))[0]) / 2,\n",
    "         f'Mean: {mean_length:.2f}', color='red')\n",
    "\n",
    "# Add grid\n",
    "plt.grid(True)\n",
    "\n",
    "# Show the plot\n",
    "plt.show()\n",
    "\n"
   ]
  },
  {
   "cell_type": "code",
   "execution_count": 6,
   "metadata": {},
   "outputs": [],
   "source": [
    "import os\n",
    "from glob import glob\n",
    "\n",
    "tracks_dir = '/playpen-storage/levlevi/player-re-id/src/testing/ocr_analysis/sample_tracks_nba_100/__tracks_nba_50_grouped__'\n",
    "unique_tracks = glob(os.path.join(tracks_dir, '*'))\n",
    "\n",
    "lengths = []\n",
    "for subdir in unique_tracks:\n",
    "    length = len(os.listdir(subdir))\n",
    "    lengths.append(length)"
   ]
  },
  {
   "cell_type": "code",
   "execution_count": 7,
   "metadata": {},
   "outputs": [
    {
     "data": {
      "image/png": "[encoded data removed]",
      "text/plain": [
       "<Figure size 640x480 with 1 Axes>"
      ]
     },
     "metadata": {},
     "output_type": "display_data"
    }
   ],
   "source": [
    "import matplotlib.pyplot as plt\n",
    "import numpy as np\n",
    "\n",
    "lengths = np.array(lengths)\n",
    "lengths_filtered = lengths[lengths > 0]\n",
    "\n",
    "# Create the histogram\n",
    "plt.hist(lengths_filtered, bins=10, range=(0, 1200))\n",
    "\n",
    "# Calculate the mean\n",
    "mean_length = np.mean(lengths_filtered)\n",
    "\n",
    "# Plot the mean line\n",
    "plt.axvline(mean_length, color='red', linestyle='dashed', linewidth=1)\n",
    "\n",
    "# Add labels and title\n",
    "plt.xlabel(\"Duration (Frames)\", fontsize=14)\n",
    "plt.ylabel(\"Count\", fontsize=14)\n",
    "plt.title(\"Track Lengths\", fontsize=16)\n",
    "\n",
    "# Add text for the mean\n",
    "plt.text(mean_length + 20, max(np.histogram(lengths_filtered, bins=30, range=(0, 1200))[0]) / 2,\n",
    "         f'Mean: {mean_length:.2f}', color='red')\n",
    "\n",
    "# Add grid\n",
    "plt.grid(True)\n",
    "\n",
    "# Show the plot\n",
    "plt.show()"
   ]
  },
  {
   "cell_type": "code",
   "execution_count": null,
   "metadata": {},
   "outputs": [],
   "source": [
    "import shutil\n",
    "src_dir = '/playpen-storage/levlevi/player-re-id/src/testing/ocr_analysis/sample_tracks_nba_100/__tracks_nba_50_grouped__'\n",
    "dst_dir = '/playpen-storage/levlevi/player-re-id/src/testing/ocr_analysis/sample_tracks_nba_100/low_pass'\n",
    "\n",
    "for subdir in unique_tracks:\n",
    "    print(subdir)\n",
    "    if len(os.listdir(subdir)) < 30:\n",
    "        shutil.move(subdir, os.path.join(dst_dir, os.path.basename(subdir)))"
   ]
  },
  {
   "cell_type": "code",
   "execution_count": 10,
   "metadata": {},
   "outputs": [],
   "source": [
    "import os\n",
    "import pandas as pd\n",
    "from glob import glob\n",
    "\n",
    "tracks_dir = '/playpen-storage/levlevi/player-re-id/src/testing/ocr_analysis/sample_tracks_nba_100/__tracks_nba_50_grouped__/_hand-labeled'\n",
    "tracks = os.listdir(tracks_dir)"
   ]
  },
  {
   "cell_type": "code",
   "execution_count": 15,
   "metadata": {},
   "outputs": [],
   "source": [
    "df = pd.DataFrame()\n",
    "\n",
    "ids = []\n",
    "jersey_numbers = []\n",
    "for track in tracks:\n",
    "    track_id = int(track.split('_')[1])\n",
    "    player_number = track.split('_')[2]\n",
    "    ids.append(track_id)\n",
    "    jersey_numbers.append(player_number if player_number != 'na' else None)\n",
    "    \n",
    "df['id'] = ids\n",
    "df['jersey_number'] = jersey_numbers"
   ]
  },
  {
   "cell_type": "code",
   "execution_count": 20,
   "metadata": {},
   "outputs": [
    {
     "data": {
      "text/html": [
       "<div>\n",
       "<style scoped>\n",
       "    .dataframe tbody tr th:only-of-type {\n",
       "        vertical-align: middle;\n",
       "    }\n",
       "\n",
       "    .dataframe tbody tr th {\n",
       "        vertical-align: top;\n",
       "    }\n",
       "\n",
       "    .dataframe thead th {\n",
       "        text-align: right;\n",
       "    }\n",
       "</style>\n",
       "<table border=\"1\" class=\"dataframe\">\n",
       "  <thead>\n",
       "    <tr style=\"text-align: right;\">\n",
       "      <th></th>\n",
       "      <th>id</th>\n",
       "      <th>jersey_number</th>\n",
       "    </tr>\n",
       "  </thead>\n",
       "  <tbody>\n",
       "    <tr>\n",
       "      <th>0</th>\n",
       "      <td>61</td>\n",
       "      <td>22</td>\n",
       "    </tr>\n",
       "    <tr>\n",
       "      <th>1</th>\n",
       "      <td>113</td>\n",
       "      <td>2</td>\n",
       "    </tr>\n",
       "    <tr>\n",
       "      <th>3</th>\n",
       "      <td>306</td>\n",
       "      <td>2</td>\n",
       "    </tr>\n",
       "    <tr>\n",
       "      <th>5</th>\n",
       "      <td>16</td>\n",
       "      <td>2</td>\n",
       "    </tr>\n",
       "    <tr>\n",
       "      <th>6</th>\n",
       "      <td>300</td>\n",
       "      <td>6</td>\n",
       "    </tr>\n",
       "    <tr>\n",
       "      <th>...</th>\n",
       "      <td>...</td>\n",
       "      <td>...</td>\n",
       "    </tr>\n",
       "    <tr>\n",
       "      <th>94</th>\n",
       "      <td>18</td>\n",
       "      <td>2</td>\n",
       "    </tr>\n",
       "    <tr>\n",
       "      <th>95</th>\n",
       "      <td>47</td>\n",
       "      <td>5</td>\n",
       "    </tr>\n",
       "    <tr>\n",
       "      <th>96</th>\n",
       "      <td>121</td>\n",
       "      <td>12</td>\n",
       "    </tr>\n",
       "    <tr>\n",
       "      <th>97</th>\n",
       "      <td>284</td>\n",
       "      <td>35</td>\n",
       "    </tr>\n",
       "    <tr>\n",
       "      <th>98</th>\n",
       "      <td>301</td>\n",
       "      <td>6</td>\n",
       "    </tr>\n",
       "  </tbody>\n",
       "</table>\n",
       "<p>86 rows × 2 columns</p>\n",
       "</div>"
      ],
      "text/plain": [
       "     id jersey_number\n",
       "0    61            22\n",
       "1   113             2\n",
       "3   306             2\n",
       "5    16             2\n",
       "6   300             6\n",
       "..  ...           ...\n",
       "94   18             2\n",
       "95   47             5\n",
       "96  121            12\n",
       "97  284            35\n",
       "98  301             6\n",
       "\n",
       "[86 rows x 2 columns]"
      ]
     },
     "execution_count": 20,
     "metadata": {},
     "output_type": "execute_result"
    }
   ],
   "source": [
    "df.dropna(how='any')"
   ]
  },
  {
   "cell_type": "code",
   "execution_count": null,
   "metadata": {},
   "outputs": [],
   "source": []
  }
 ],
 "metadata": {
  "kernelspec": {
   "display_name": "reid",
   "language": "python",
   "name": "python3"
  },
  "language_info": {
   "codemirror_mode": {
    "name": "ipython",
    "version": 3
   },
   "file_extension": ".py",
   "mimetype": "text/x-python",
   "name": "python",
   "nbconvert_exporter": "python",
   "pygments_lexer": "ipython3",
   "version": "3.8.19"
  }
 },
 "nbformat": 4,
 "nbformat_minor": 2
}
