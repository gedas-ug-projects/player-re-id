{
 "cells": [
  {
   "cell_type": "code",
   "execution_count": 1,
   "metadata": {},
   "outputs": [],
   "source": [
    "import os\n",
    "from glob import glob\n",
    "\n",
    "VIDEOS_DIR = '/mnt/sun/levlevi/nba-plus-statvu-dataset/game-replays'\n",
    "TRACKS_DIR = '/playpen-storage/levlevi/player-re-id/src/testing/ocr_analysis/full_video_tracks'\n",
    "\n",
    "\"\"\"\n",
    "ffmpeg_command = [\n",
    "                    \"ffmpeg\", \"-ss\", str(start_time), \"-i\", video_file,\n",
    "                    \"-t\", \"10\", \"-c:v\", \"copy\", \"-c:a\", \"copy\", output_file\n",
    "                ]\n",
    "\"\"\"\n",
    "\n",
    "\n",
    "out_dir = '/playpen-storage/levlevi/player-re-id/src/testing/ocr_analysis/sample_tracks_nba_100'\n",
    "tracks_fps = glob(os.path.join(TRACKS_DIR, \"*.txt\"))"
   ]
  },
  {
   "cell_type": "code",
   "execution_count": 2,
   "metadata": {},
   "outputs": [
    {
     "name": "stderr",
     "output_type": "stream",
     "text": [
      "100%|██████████| 28/28 [00:11<00:00,  2.47it/s]\n"
     ]
    }
   ],
   "source": [
    "import pandas as pd\n",
    "from tqdm import tqdm\n",
    "\n",
    "# concatinate all player tracks\n",
    "tracks = []\n",
    "\n",
    "for fp in tqdm(tracks_fps):\n",
    "    with open(fp, 'r') as f:\n",
    "        lines = f.readlines()\n",
    "        index = ['frame', 'entity_id', 'x1', 'y1', 'width', 'height', 'conf', 'pad2', 'pad3', 'pad4']\n",
    "        df = pd.read_csv(fp, names=index)[['frame', 'entity_id', 'x1', 'y1', 'width', 'height', 'conf']]\n",
    "        entities = df.entity_id.unique()\n",
    "        for entity in entities:\n",
    "            df_entity = df[df.entity_id == entity]\n",
    "            tracks.append((fp, df_entity))"
   ]
  },
  {
   "cell_type": "code",
   "execution_count": 3,
   "metadata": {},
   "outputs": [],
   "source": [
    "import random\n",
    "\n",
    "random.shuffle(tracks)\n",
    "sample_tracks = tracks[0: 100]"
   ]
  },
  {
   "cell_type": "code",
   "execution_count": 4,
   "metadata": {},
   "outputs": [],
   "source": [
    "videos_fps = glob(os.path.join(VIDEOS_DIR, \"*.mp4\"))"
   ]
  },
  {
   "cell_type": "code",
   "execution_count": 5,
   "metadata": {},
   "outputs": [
    {
     "name": "stderr",
     "output_type": "stream",
     "text": [
      " 30%|███       | 30/100 [09:10<21:25, 18.36s/it]\n"
     ]
    },
    {
     "ename": "KeyboardInterrupt",
     "evalue": "",
     "output_type": "error",
     "traceback": [
      "\u001b[0;31m---------------------------------------------------------------------------\u001b[0m",
      "\u001b[0;31mKeyboardInterrupt\u001b[0m                         Traceback (most recent call last)",
      "Cell \u001b[0;32mIn[5], line 43\u001b[0m\n\u001b[1;32m     41\u001b[0m height \u001b[38;5;241m=\u001b[39m \u001b[38;5;28mint\u001b[39m(row\u001b[38;5;241m.\u001b[39mheight)\n\u001b[1;32m     42\u001b[0m frame_path \u001b[38;5;241m=\u001b[39m os\u001b[38;5;241m.\u001b[39mpath\u001b[38;5;241m.\u001b[39mjoin(out_subdir, \u001b[38;5;124mf\u001b[39m\u001b[38;5;124m\"\u001b[39m\u001b[38;5;132;01m{\u001b[39;00mframe\u001b[38;5;132;01m:\u001b[39;00m\u001b[38;5;124m06d\u001b[39m\u001b[38;5;132;01m}\u001b[39;00m\u001b[38;5;124m.jpg\u001b[39m\u001b[38;5;124m\"\u001b[39m)\n\u001b[0;32m---> 43\u001b[0m \u001b[43mcap\u001b[49m\u001b[38;5;241;43m.\u001b[39;49m\u001b[43mset\u001b[49m\u001b[43m(\u001b[49m\u001b[43mcv2\u001b[49m\u001b[38;5;241;43m.\u001b[39;49m\u001b[43mCAP_PROP_POS_FRAMES\u001b[49m\u001b[43m,\u001b[49m\u001b[43m \u001b[49m\u001b[43mframe\u001b[49m\u001b[43m)\u001b[49m\n\u001b[1;32m     44\u001b[0m ret, frame \u001b[38;5;241m=\u001b[39m cap\u001b[38;5;241m.\u001b[39mread()\n\u001b[1;32m     45\u001b[0m \u001b[38;5;28;01mif\u001b[39;00m ret:\n",
      "\u001b[0;31mKeyboardInterrupt\u001b[0m: "
     ]
    }
   ],
   "source": [
    "import cv2\n",
    "import Levenshtein\n",
    "\n",
    "def measure_similarity(str1, str2):\n",
    "    distance = Levenshtein.distance(str1, str2)\n",
    "    max_len = max(len(str1), len(str2))\n",
    "    similarity_ratio = 1 - (distance / max_len)\n",
    "    return similarity_ratio\n",
    "\n",
    "\n",
    "def find_closest_fp(fp: str):\n",
    "    max_similarity = 0\n",
    "    for video_fp in videos_fps:\n",
    "        similarity = measure_similarity(fp, video_fp)\n",
    "        if similarity > max_similarity:\n",
    "            max_similarity = similarity\n",
    "            closest_fp = video_fp\n",
    "    return closest_fp\n",
    "\n",
    "\n",
    "dst_dir = '/playpen-storage/levlevi/player-re-id/src/testing/ocr_analysis/sample_tracks_nba_100'\n",
    "for track in tqdm(sample_tracks):\n",
    "    \n",
    "    fp = track[0]\n",
    "    df = track[1]\n",
    "    video_name = fp.split('/')[-1].replace('.txt', '.mp4')\n",
    "    video_path = os.path.join(VIDEOS_DIR, video_name)\n",
    "    video_path = find_closest_fp(video_path)\n",
    "    \n",
    "    cap = cv2.VideoCapture(video_path)\n",
    "    out_subdir = os.path.join(dst_dir, video_name)\n",
    "    os.makedirs(out_subdir, exist_ok=True)\n",
    "    \n",
    "    # set and save each frame from track\n",
    "    for row in df.itertuples():\n",
    "        row_out_dir = os.path.join(out_subdir, 'frame_{}'.format(row.frame))\n",
    "        frame = row.frame\n",
    "        x1 = int(row.x1)\n",
    "        y1 = int(row.y1)\n",
    "        width = int(row.width)\n",
    "        height = int(row.height)\n",
    "        frame_path = os.path.join(out_subdir, f\"{frame:06d}.jpg\")\n",
    "        cap.set(cv2.CAP_PROP_POS_FRAMES, frame)\n",
    "        ret, frame = cap.read()\n",
    "        if ret:\n",
    "            frame = frame[y1:y1+height, x1:x1+width]\n",
    "            try:\n",
    "                cv2.imwrite(frame_path, frame)\n",
    "            except:\n",
    "                pass"
   ]
  }
 ],
 "metadata": {
  "kernelspec": {
   "display_name": "reid",
   "language": "python",
   "name": "python3"
  },
  "language_info": {
   "codemirror_mode": {
    "name": "ipython",
    "version": 3
   },
   "file_extension": ".py",
   "mimetype": "text/x-python",
   "name": "python",
   "nbconvert_exporter": "python",
   "pygments_lexer": "ipython3",
   "version": "3.8.19"
  }
 },
 "nbformat": 4,
 "nbformat_minor": 2
}
