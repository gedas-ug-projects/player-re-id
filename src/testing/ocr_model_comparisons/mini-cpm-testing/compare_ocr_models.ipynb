{
 "cells": [
  {
   "cell_type": "code",
   "execution_count": 1,
   "metadata": {},
   "outputs": [
    {
     "name": "stderr",
     "output_type": "stream",
     "text": [
      "/playpen-storage/levlevi/Anaconda3/envs/tg/lib/python3.10/site-packages/tqdm/auto.py:21: TqdmWarning: IProgress not found. Please update jupyter and ipywidgets. See https://ipywidgets.readthedocs.io/en/stable/user_install.html\n",
      "  from .autonotebook import tqdm as notebook_tqdm\n",
      "2024-06-23 03:38:01,106 - INFO - Loading model and tokenizer...\n",
      "2024-06-23 03:38:01,289 - INFO - vision_config is None, using default vision config\n",
      "Loading checkpoint shards: 100%|██████████| 7/7 [00:05<00:00,  1.35it/s]\n",
      "Special tokens have been added in the vocabulary, make sure the associated word embeddings are fine-tuned or trained.\n",
      "2024-06-23 03:38:17,914 - INFO - Model and tokenizer loaded successfully.\n",
      "100%|██████████| 100/100 [02:36<00:00,  1.57s/it]\n"
     ]
    }
   ],
   "source": [
    "import os\n",
    "os.environ['HF_HOME'] = '/mnt/opr/levlevi/tmp'\n",
    "\n",
    "import pandas as pd\n",
    "from tqdm import tqdm\n",
    "from glob import glob\n",
    "from mini_cpm_full_infer import load_and_convert_image, ocr, load_model_and_tokenizer\n",
    "\n",
    "test_set_dir = '/mnt/opr/levlevi/player-re-id/src/testing/ocr_model_comparions/nba_100_test_set'\n",
    "image_file_paths = glob(os.path.join(test_set_dir, '*.jpg'))\n",
    "\n",
    "model = load_model_and_tokenizer(2)\n",
    "def perform_ocr(image_file_path: str) -> str:\n",
    "    img = load_and_convert_image(image_file_path)\n",
    "    result = ocr(img, model)\n",
    "    return result\n",
    "\n",
    "ground_truth_labels = []\n",
    "results = []\n",
    "for image_file_path in tqdm(image_file_paths):\n",
    "    # get human annotation\n",
    "    ground_truth_label = image_file_path.split('/')[-1].split('_')[1].split('.')[0]\n",
    "    ground_truth_labels.append(ground_truth_label)\n",
    "    # perform ocr\n",
    "    result = perform_ocr(image_file_path)\n",
    "    results.append(result)"
   ]
  },
  {
   "cell_type": "code",
   "execution_count": 10,
   "metadata": {},
   "outputs": [
    {
     "name": "stderr",
     "output_type": "stream",
     "text": [
      "100it [00:00, 43062.67it/s]\n"
     ]
    }
   ],
   "source": [
    "import ast\n",
    "from tqdm import tqdm\n",
    "\n",
    "results_clone = results.copy()\n",
    "results_parsed = []\n",
    "for idx, result in tqdm(enumerate(results_clone)):\n",
    "    if idx == 100:\n",
    "        break\n",
    "    if not result:\n",
    "        results_parsed.append('na')\n",
    "        continue\n",
    "    if '{' not in result:\n",
    "        results_parsed.append('na')\n",
    "        continue\n",
    "    result_str = '{' + result.strip().split('{')[-1]\n",
    "    result_str = result_str.split('}')[0] + '}'\n",
    "    result_dict = ast.literal_eval(result_str)\n",
    "    jersey_number = result_dict['jersey_number']\n",
    "    if jersey_number is None:\n",
    "        results_parsed.append('na')\n",
    "        continue\n",
    "    results_parsed.append(jersey_number)"
   ]
  },
  {
   "cell_type": "code",
   "execution_count": 11,
   "metadata": {},
   "outputs": [
    {
     "data": {
      "text/html": [
       "<div>\n",
       "<style scoped>\n",
       "    .dataframe tbody tr th:only-of-type {\n",
       "        vertical-align: middle;\n",
       "    }\n",
       "\n",
       "    .dataframe tbody tr th {\n",
       "        vertical-align: top;\n",
       "    }\n",
       "\n",
       "    .dataframe thead th {\n",
       "        text-align: right;\n",
       "    }\n",
       "</style>\n",
       "<table border=\"1\" class=\"dataframe\">\n",
       "  <thead>\n",
       "    <tr style=\"text-align: right;\">\n",
       "      <th></th>\n",
       "      <th>ground_truth</th>\n",
       "      <th>predicted</th>\n",
       "      <th>correct</th>\n",
       "    </tr>\n",
       "  </thead>\n",
       "  <tbody>\n",
       "    <tr>\n",
       "      <th>0</th>\n",
       "      <td>na</td>\n",
       "      <td>na</td>\n",
       "      <td>True</td>\n",
       "    </tr>\n",
       "    <tr>\n",
       "      <th>1</th>\n",
       "      <td>na</td>\n",
       "      <td>na</td>\n",
       "      <td>True</td>\n",
       "    </tr>\n",
       "    <tr>\n",
       "      <th>2</th>\n",
       "      <td>na</td>\n",
       "      <td>na</td>\n",
       "      <td>True</td>\n",
       "    </tr>\n",
       "    <tr>\n",
       "      <th>3</th>\n",
       "      <td>2</td>\n",
       "      <td>2</td>\n",
       "      <td>True</td>\n",
       "    </tr>\n",
       "    <tr>\n",
       "      <th>4</th>\n",
       "      <td>36</td>\n",
       "      <td>34</td>\n",
       "      <td>False</td>\n",
       "    </tr>\n",
       "    <tr>\n",
       "      <th>...</th>\n",
       "      <td>...</td>\n",
       "      <td>...</td>\n",
       "      <td>...</td>\n",
       "    </tr>\n",
       "    <tr>\n",
       "      <th>95</th>\n",
       "      <td>41</td>\n",
       "      <td>41</td>\n",
       "      <td>True</td>\n",
       "    </tr>\n",
       "    <tr>\n",
       "      <th>96</th>\n",
       "      <td>13</td>\n",
       "      <td>na</td>\n",
       "      <td>False</td>\n",
       "    </tr>\n",
       "    <tr>\n",
       "      <th>97</th>\n",
       "      <td>na</td>\n",
       "      <td>na</td>\n",
       "      <td>True</td>\n",
       "    </tr>\n",
       "    <tr>\n",
       "      <th>98</th>\n",
       "      <td>2</td>\n",
       "      <td>12</td>\n",
       "      <td>False</td>\n",
       "    </tr>\n",
       "    <tr>\n",
       "      <th>99</th>\n",
       "      <td>na</td>\n",
       "      <td>na</td>\n",
       "      <td>True</td>\n",
       "    </tr>\n",
       "  </tbody>\n",
       "</table>\n",
       "<p>100 rows × 3 columns</p>\n",
       "</div>"
      ],
      "text/plain": [
       "   ground_truth predicted  correct\n",
       "0            na        na     True\n",
       "1            na        na     True\n",
       "2            na        na     True\n",
       "3             2         2     True\n",
       "4            36        34    False\n",
       "..          ...       ...      ...\n",
       "95           41        41     True\n",
       "96           13        na    False\n",
       "97           na        na     True\n",
       "98            2        12    False\n",
       "99           na        na     True\n",
       "\n",
       "[100 rows x 3 columns]"
      ]
     },
     "execution_count": 11,
     "metadata": {},
     "output_type": "execute_result"
    }
   ],
   "source": [
    "results_df = pd.DataFrame()\n",
    "results_df['ground_truth'] = ground_truth_labels\n",
    "results_df['predicted'] = results_parsed\n",
    "results_df['correct'] = results_df['ground_truth'] == results_df['predicted']\n",
    "results_df"
   ]
  },
  {
   "cell_type": "code",
   "execution_count": 12,
   "metadata": {},
   "outputs": [
    {
     "data": {
      "text/plain": [
       "65"
      ]
     },
     "execution_count": 12,
     "metadata": {},
     "output_type": "execute_result"
    }
   ],
   "source": [
    "sum(results_df['correct'])"
   ]
  },
  {
   "cell_type": "code",
   "execution_count": null,
   "metadata": {},
   "outputs": [],
   "source": []
  }
 ],
 "metadata": {
  "kernelspec": {
   "display_name": "vish",
   "language": "python",
   "name": "python3"
  },
  "language_info": {
   "codemirror_mode": {
    "name": "ipython",
    "version": 3
   },
   "file_extension": ".py",
   "mimetype": "text/x-python",
   "name": "python",
   "nbconvert_exporter": "python",
   "pygments_lexer": "ipython3",
   "version": "3.10.14"
  }
 },
 "nbformat": 4,
 "nbformat_minor": 2
}
