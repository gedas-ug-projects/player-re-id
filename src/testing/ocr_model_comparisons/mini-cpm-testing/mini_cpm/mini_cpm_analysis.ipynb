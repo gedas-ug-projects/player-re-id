{
 "cells": [
  {
   "cell_type": "code",
   "execution_count": 5,
   "metadata": {},
   "outputs": [],
   "source": [
    "import pandas as pd\n",
    "from collections import Counter\n",
    "\n",
    "def find_most_common_element_in_arr(arr):\n",
    "    return Counter(arr).most_common(1)[0][0] if len(arr) > 0 else None"
   ]
  },
  {
   "cell_type": "code",
   "execution_count": 6,
   "metadata": {},
   "outputs": [],
   "source": [
    "import json\n",
    "\n",
    "fp = '/mnt/opr/levlevi/player-re-id/src/testing/ocr_analysis/corrected_nba_100_tracks_ocr_results.json'\n",
    "with open(fp, 'r') as f:\n",
    "    data = json.load(f)"
   ]
  },
  {
   "cell_type": "code",
   "execution_count": 37,
   "metadata": {},
   "outputs": [],
   "source": [
    "ground_truth_preds = []\n",
    "mini_cpm_preds = []\n",
    "\n",
    "for k in data:\n",
    "    \n",
    "    human_ann = k.split('/')[-1].split('_')[-1]\n",
    "    human_annotation_int = int(human_ann) if human_ann != 'na' else 'None'\n",
    "    ground_truth_preds.append(human_annotation_int)\n",
    "    \n",
    "    jersey_numbers_temp = []\n",
    "    for val in data[k].values():\n",
    "        try:\n",
    "            jersey_number = val['jersey_number']\n",
    "            jersey_number = int(jersey_number)\n",
    "            jersey_numbers_temp.append(jersey_number)\n",
    "        except:\n",
    "            pass\n",
    "        \n",
    "    most_common_pred = find_most_common_element_in_arr(jersey_numbers_temp) if len(jersey_numbers_temp) > 0 else 'None'\n",
    "    mini_cpm_preds.append(most_common_pred)"
   ]
  },
  {
   "cell_type": "code",
   "execution_count": 51,
   "metadata": {},
   "outputs": [
    {
     "data": {
      "text/html": [
       "<div>\n",
       "<style scoped>\n",
       "    .dataframe tbody tr th:only-of-type {\n",
       "        vertical-align: middle;\n",
       "    }\n",
       "\n",
       "    .dataframe tbody tr th {\n",
       "        vertical-align: top;\n",
       "    }\n",
       "\n",
       "    .dataframe thead th {\n",
       "        text-align: right;\n",
       "    }\n",
       "</style>\n",
       "<table border=\"1\" class=\"dataframe\">\n",
       "  <thead>\n",
       "    <tr style=\"text-align: right;\">\n",
       "      <th></th>\n",
       "      <th>ground_truth</th>\n",
       "      <th>mini_cpm</th>\n",
       "    </tr>\n",
       "  </thead>\n",
       "  <tbody>\n",
       "    <tr>\n",
       "      <th>0</th>\n",
       "      <td>22</td>\n",
       "      <td>None</td>\n",
       "    </tr>\n",
       "    <tr>\n",
       "      <th>1</th>\n",
       "      <td>2</td>\n",
       "      <td>2</td>\n",
       "    </tr>\n",
       "    <tr>\n",
       "      <th>3</th>\n",
       "      <td>2</td>\n",
       "      <td>99</td>\n",
       "    </tr>\n",
       "    <tr>\n",
       "      <th>4</th>\n",
       "      <td>30</td>\n",
       "      <td>2</td>\n",
       "    </tr>\n",
       "    <tr>\n",
       "      <th>5</th>\n",
       "      <td>2</td>\n",
       "      <td>None</td>\n",
       "    </tr>\n",
       "    <tr>\n",
       "      <th>...</th>\n",
       "      <td>...</td>\n",
       "      <td>...</td>\n",
       "    </tr>\n",
       "    <tr>\n",
       "      <th>95</th>\n",
       "      <td>30</td>\n",
       "      <td>30</td>\n",
       "    </tr>\n",
       "    <tr>\n",
       "      <th>96</th>\n",
       "      <td>35</td>\n",
       "      <td>35</td>\n",
       "    </tr>\n",
       "    <tr>\n",
       "      <th>97</th>\n",
       "      <td>35</td>\n",
       "      <td>None</td>\n",
       "    </tr>\n",
       "    <tr>\n",
       "      <th>98</th>\n",
       "      <td>23</td>\n",
       "      <td>23</td>\n",
       "    </tr>\n",
       "    <tr>\n",
       "      <th>99</th>\n",
       "      <td>2</td>\n",
       "      <td>None</td>\n",
       "    </tr>\n",
       "  </tbody>\n",
       "</table>\n",
       "<p>86 rows × 2 columns</p>\n",
       "</div>"
      ],
      "text/plain": [
       "   ground_truth mini_cpm\n",
       "0            22     None\n",
       "1             2        2\n",
       "3             2       99\n",
       "4            30        2\n",
       "5             2     None\n",
       "..          ...      ...\n",
       "95           30       30\n",
       "96           35       35\n",
       "97           35     None\n",
       "98           23       23\n",
       "99            2     None\n",
       "\n",
       "[86 rows x 2 columns]"
      ]
     },
     "execution_count": 51,
     "metadata": {},
     "output_type": "execute_result"
    }
   ],
   "source": [
    "df = pd.DataFrame({'ground_truth': ground_truth_preds, 'mini_cpm': mini_cpm_preds})\n",
    "\n",
    "df_gt_not_none = df[df['ground_truth']!= 'None']\n",
    "df_gt_none = df[df['ground_truth'] == 'None']\n",
    "\n",
    "tp = len(df_gt_not_none[df_gt_not_none['ground_truth'] == df_gt_not_none['mini_cpm']])\n",
    "fp = len(df_gt_none[df_gt_none['ground_truth'] != df_gt_none['mini_cpm']])\n",
    "tn = len(df_gt_none[df_gt_none['ground_truth'] == df_gt_none['mini_cpm']])\n",
    "fn = len(df_gt_not_none[df_gt_not_none['ground_truth']!= df_gt_not_none['mini_cpm']])\n",
    "\n",
    "precision = tp / (tp + fp)\n",
    "recall = tp / (tp + fn)\n",
    "df_gt_not_none"
   ]
  },
  {
   "cell_type": "code",
   "execution_count": 48,
   "metadata": {},
   "outputs": [
    {
     "data": {
      "text/plain": [
       "(0.9444444444444444, 0.5930232558139535)"
      ]
     },
     "execution_count": 48,
     "metadata": {},
     "output_type": "execute_result"
    }
   ],
   "source": [
    "# precision = tp / (tp + fp)\n",
    "# recall = tp / (tp + fn)\n",
    "\n",
    "precision, recall"
   ]
  },
  {
   "cell_type": "code",
   "execution_count": null,
   "metadata": {},
   "outputs": [],
   "source": []
  }
 ],
 "metadata": {
  "kernelspec": {
   "display_name": "mini",
   "language": "python",
   "name": "python3"
  },
  "language_info": {
   "codemirror_mode": {
    "name": "ipython",
    "version": 3
   },
   "file_extension": ".py",
   "mimetype": "text/x-python",
   "name": "python",
   "nbconvert_exporter": "python",
   "pygments_lexer": "ipython3",
   "version": "3.10.14"
  }
 },
 "nbformat": 4,
 "nbformat_minor": 2
}
