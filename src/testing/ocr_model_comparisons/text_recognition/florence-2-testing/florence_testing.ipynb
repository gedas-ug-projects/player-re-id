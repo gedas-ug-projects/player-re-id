{
 "cells": [
  {
   "cell_type": "code",
   "execution_count": 63,
   "metadata": {},
   "outputs": [],
   "source": [
    "import requests\n",
    "import warnings\n",
    "\n",
    "from PIL import Image\n",
    "from transformers import AutoProcessor, AutoModelForCausalLM\n",
    "warnings.simplefilter(\"ignore\", FutureWarning)\n",
    "\n",
    "model = AutoModelForCausalLM.from_pretrained(\"microsoft/Florence-2-large-ft\", trust_remote_code=True, device_map=\"cuda\").eval()\n",
    "processor = AutoProcessor.from_pretrained(\"microsoft/Florence-2-large-ft\", trust_remote_code=True)"
   ]
  },
  {
   "cell_type": "markdown",
   "metadata": {},
   "source": [
    "# **OCR Benchmark**\n",
    "***"
   ]
  },
  {
   "cell_type": "code",
   "execution_count": 64,
   "metadata": {},
   "outputs": [
    {
     "name": "stderr",
     "output_type": "stream",
     "text": [
      "  0%|          | 0/100 [00:00<?, ?it/s]"
     ]
    },
    {
     "name": "stderr",
     "output_type": "stream",
     "text": [
      "100%|██████████| 100/100 [03:52<00:00,  2.33s/it]\n"
     ]
    }
   ],
   "source": [
    "import random\n",
    "import os\n",
    "from tqdm import tqdm\n",
    "from glob import glob\n",
    "from PIL import Image, ImageOps\n",
    "\n",
    "BOOTSTRAPS = 9\n",
    "\n",
    "test_set_dir = \"/playpen-storage/levlevi/player-re-id/src/testing/ocr_model_comparisons/text_recognition/nba_100_test_set\"\n",
    "image_file_paths = glob(os.path.join(test_set_dir, '*.jpg'))\n",
    "PROMPT = \"\"\"Analyze the basketball player shown in the provided still tracklet frame and describe the following details:\n",
    "1. Jersey Number: Identify the number on the player's jersey. If the player has no jersey, provide None.\n",
    "Based on the frame description, produce an output prediction in the following JSON format:\n",
    "{\n",
    "  \"jersey_number\": \"<predicted_jersey_number>\",\n",
    "}\n",
    "[EOS]\"\"\"\n",
    "\n",
    "def augment_image(image):\n",
    "    angle = random.uniform(-1, 1)\n",
    "    image = image.rotate(angle)\n",
    "    max_translate = 5\n",
    "    translate_x = random.uniform(-max_translate, max_translate)\n",
    "    translate_y = random.uniform(-max_translate, max_translate)\n",
    "    image = image.transform(\n",
    "        image.size, Image.AFFINE,\n",
    "        (1, 0, translate_x, 0, 1, translate_y)\n",
    "    )\n",
    "    scale = random.uniform(0.99, 1.01)\n",
    "    new_size = (int(image.size[0] * scale), int(image.size[1] * scale))\n",
    "    image = image.resize(new_size, Image.BICUBIC)\n",
    "    if scale < 1:\n",
    "        pad_x = (image.size[0] - new_size[0]) // 2\n",
    "        pad_y = (image.size[1] - new_size[1]) // 2\n",
    "        image = ImageOps.expand(image, border=(pad_x, pad_y, pad_x, pad_y))\n",
    "    else:\n",
    "        crop_x = (new_size[0] - image.size[0]) // 2\n",
    "        crop_y = (new_size[1] - image.size[1]) // 2\n",
    "        image = image.crop((crop_x, crop_y, crop_x + image.size[0], crop_y + image.size[1]))\n",
    "    return image\n",
    "\n",
    "def is_valid_jersey_number(text):\n",
    "    if text.isdigit():\n",
    "        number = int(text)\n",
    "        return 0 <= number <= 99\n",
    "    return False\n",
    "\n",
    "def perform_ocr(image_file_path: str) -> str:\n",
    "    bootstraped_results = []\n",
    "    for _ in range(BOOTSTRAPS):\n",
    "        image = Image.open(image_file_path)\n",
    "        image = augment_image(image)\n",
    "        # image = crop_image(image)\n",
    "        if not image:\n",
    "            return None\n",
    "        inputs = processor(text=PROMPT, images=image, return_tensors=\"pt\").to('cuda')\n",
    "        generated_ids = model.generate(\n",
    "            input_ids=inputs[\"input_ids\"],\n",
    "            pixel_values=inputs[\"pixel_values\"],\n",
    "            max_new_tokens=1024,\n",
    "            do_sample=True,\n",
    "            num_beams=10\n",
    "        )\n",
    "        generated_text = processor.batch_decode(generated_ids, skip_special_tokens=False)[0]\n",
    "        parsed_answer = processor.post_process_generation(generated_text, task=\"<OCR>\", image_size=(image.width, image.height))\n",
    "        bootstraped_results.append(parsed_answer)\n",
    "    return bootstraped_results\n",
    "\n",
    "ground_truth_labels = []\n",
    "results = []\n",
    "for image_file_path in tqdm(image_file_paths):\n",
    "    # get human annotation\n",
    "    ground_truth_label = image_file_path.split('/')[-1].split('_')[1].split('.')[0]\n",
    "    ground_truth_labels.append(ground_truth_label)\n",
    "    # perform ocr\n",
    "    result = perform_ocr(image_file_path)\n",
    "    results.append(result)"
   ]
  },
  {
   "cell_type": "code",
   "execution_count": 68,
   "metadata": {},
   "outputs": [
    {
     "data": {
      "text/html": [
       "<div>\n",
       "<style scoped>\n",
       "    .dataframe tbody tr th:only-of-type {\n",
       "        vertical-align: middle;\n",
       "    }\n",
       "\n",
       "    .dataframe tbody tr th {\n",
       "        vertical-align: top;\n",
       "    }\n",
       "\n",
       "    .dataframe thead th {\n",
       "        text-align: right;\n",
       "    }\n",
       "</style>\n",
       "<table border=\"1\" class=\"dataframe\">\n",
       "  <thead>\n",
       "    <tr style=\"text-align: right;\">\n",
       "      <th></th>\n",
       "      <th>ground_truth_label</th>\n",
       "      <th>prediction</th>\n",
       "      <th>correct</th>\n",
       "    </tr>\n",
       "  </thead>\n",
       "  <tbody>\n",
       "    <tr>\n",
       "      <th>0</th>\n",
       "      <td>na</td>\n",
       "      <td>nan</td>\n",
       "      <td>False</td>\n",
       "    </tr>\n",
       "    <tr>\n",
       "      <th>1</th>\n",
       "      <td>na</td>\n",
       "      <td>nan</td>\n",
       "      <td>False</td>\n",
       "    </tr>\n",
       "    <tr>\n",
       "      <th>2</th>\n",
       "      <td>na</td>\n",
       "      <td>nan</td>\n",
       "      <td>False</td>\n",
       "    </tr>\n",
       "    <tr>\n",
       "      <th>3</th>\n",
       "      <td>2</td>\n",
       "      <td>2</td>\n",
       "      <td>True</td>\n",
       "    </tr>\n",
       "    <tr>\n",
       "      <th>4</th>\n",
       "      <td>36</td>\n",
       "      <td>nan</td>\n",
       "      <td>False</td>\n",
       "    </tr>\n",
       "  </tbody>\n",
       "</table>\n",
       "</div>"
      ],
      "text/plain": [
       "  ground_truth_label prediction  correct\n",
       "0                 na        nan    False\n",
       "1                 na        nan    False\n",
       "2                 na        nan    False\n",
       "3                  2          2     True\n",
       "4                 36        nan    False"
      ]
     },
     "execution_count": 68,
     "metadata": {},
     "output_type": "execute_result"
    }
   ],
   "source": [
    "import pandas as pd\n",
    "import re\n",
    "from collections import Counter\n",
    "\n",
    "def get_majority_element(lst):\n",
    "    counter = Counter(lst)\n",
    "    return counter.most_common(1)[0][0]\n",
    "\n",
    "ground_truth_labels = [f.split('/')[-1].split('_')[1].split('.')[0] for f in image_file_paths]\n",
    "predictions = []\n",
    "for arr in results:\n",
    "    pred = None\n",
    "    raw_results_arr = []\n",
    "    for r in arr:\n",
    "        if not r:\n",
    "            continue\n",
    "        else:\n",
    "            pred = r['<OCR>']\n",
    "        # match only numerical strings\n",
    "        pred = re.sub('[^0-9]', '', pred)\n",
    "        if pred == 'unanswerable' or pred == '':\n",
    "            continue\n",
    "        raw_results_arr.append(pred)\n",
    "    # 5/5 majority vote\n",
    "    if len(raw_results_arr) == BOOTSTRAPS:\n",
    "        pred = get_majority_element(raw_results_arr)\n",
    "    else:\n",
    "        pred = 'nan'\n",
    "    predictions.append(pred)\n",
    "    \n",
    "df = pd.DataFrame({'ground_truth_label': ground_truth_labels, 'prediction': predictions})\n",
    "correct = df['ground_truth_label'] == df['prediction']\n",
    "df['correct'] = correct\n",
    "df.head()"
   ]
  },
  {
   "cell_type": "code",
   "execution_count": 69,
   "metadata": {},
   "outputs": [
    {
     "name": "stdout",
     "output_type": "stream",
     "text": [
      "17 / 19\n",
      "17 / 51\n"
     ]
    }
   ],
   "source": [
    "tp, fp = [], []\n",
    "tn, fn = [], []\n",
    "for row_dict in df.itertuples():\n",
    "    row = list(row_dict)\n",
    "    if row[-1] == True:\n",
    "        tp.append(1)\n",
    "    elif row[1] == 'na' and row[2] == 'nan':\n",
    "        tn.append(1)\n",
    "    elif row[1] == 'na' and row[2] != 'nan':\n",
    "        fp.append(1)\n",
    "    else:\n",
    "        fn.append(1)\n",
    "        \n",
    "precision = sum(tp) / (sum(tp) + sum(fp))\n",
    "recall = sum(tp) / (sum(tp) + sum(fn))\n",
    "\n",
    "print(sum(tp), '/', sum(tp) + sum(fp))\n",
    "print(sum(tp), '/', sum(tp) + sum(fn))"
   ]
  },
  {
   "cell_type": "code",
   "execution_count": 70,
   "metadata": {},
   "outputs": [
    {
     "data": {
      "text/plain": [
       "0.8947368421052632"
      ]
     },
     "execution_count": 70,
     "metadata": {},
     "output_type": "execute_result"
    }
   ],
   "source": [
    "17/19"
   ]
  }
 ],
 "metadata": {
  "kernelspec": {
   "display_name": "cog",
   "language": "python",
   "name": "python3"
  },
  "language_info": {
   "codemirror_mode": {
    "name": "ipython",
    "version": 3
   },
   "file_extension": ".py",
   "mimetype": "text/x-python",
   "name": "python",
   "nbconvert_exporter": "python",
   "pygments_lexer": "ipython3",
   "version": "3.8.19"
  }
 },
 "nbformat": 4,
 "nbformat_minor": 2
}
